{
 "cells": [
  {
   "cell_type": "markdown",
   "metadata": {},
   "source": [
    "## HEP Example: Liklihood gradients\n",
    "\n",
    "A prime example where this is the case is statistical analysis. For a maximum likelihood fit we want to minimize the log likelihood.\n",
    "\n",
    "$\\theta^* = \\mathrm{argmin}_\\theta(\\log L)$ "
   ]
  },
  {
   "cell_type": "code",
   "execution_count": null,
   "metadata": {},
   "outputs": [],
   "source": [
    "import jax\n",
    "import jax.numpy as jnp\n",
    "import numpy as np\n",
    "import pyhf\n",
    "import matplotlib.pyplot as plt\n",
    "\n",
    "plt.rcParams.update(\n",
    "    {\"font.size\": 14, \"figure.facecolor\": (1, 1, 1, 1), \"figure.dpi\": 100}\n",
    ")"
   ]
  },
  {
   "cell_type": "code",
   "execution_count": null,
   "metadata": {},
   "outputs": [],
   "source": [
    "pyhf.set_backend(\"jax\")"
   ]
  },
  {
   "cell_type": "code",
   "execution_count": null,
   "metadata": {},
   "outputs": [],
   "source": [
    "model = pyhf.simplemodels.hepdata_like(\n",
    "    signal_data=[5.0], bkg_data=[10.0], bkg_uncerts=[3.5]\n",
    ")\n",
    "pars = jnp.array(model.config.suggested_init())\n",
    "observations = [15.0]\n",
    "data = jnp.array(observations + model.config.auxdata)\n",
    "\n",
    "best_fit = pyhf.infer.mle.fit(data, model)"
   ]
  },
  {
   "cell_type": "code",
   "execution_count": null,
   "metadata": {},
   "outputs": [],
   "source": [
    "def plot_gradient_map(data, model, best_fit, **kwargs):\n",
    "    fig, ax = plt.subplots()\n",
    "    fig.set_size_inches(7, 7)\n",
    "\n",
    "    x_range = kwargs.pop(\"x_range\", (0.5, 1.5))\n",
    "    y_range = kwargs.pop(\"y_range\", (0.5, 1.5))\n",
    "\n",
    "    # Countours\n",
    "    grid = x, y = np.mgrid[\n",
    "        x_range[0] : x_range[1] : 101j, y_range[0] : y_range[1] : 101j\n",
    "    ]\n",
    "    points = np.swapaxes(grid, 0, -1).reshape(-1, 2)\n",
    "\n",
    "    v = jax.vmap(model.logpdf, in_axes=(0, None))(points, data)\n",
    "    v = np.swapaxes(v.reshape(101, 101), 0, -1)\n",
    "    ax.contourf(x, y, v, levels=100)\n",
    "    ax.contour(x, y, v, levels=20, colors=\"w\")\n",
    "\n",
    "    # Gradients\n",
    "    grid = x, y = np.mgrid[x_range[0] : x_range[1] : 11j, y_range[0] : y_range[1] : 11j]\n",
    "    points = np.swapaxes(grid, 0, -1).reshape(-1, 2)\n",
    "    values, gradients = jax.vmap(\n",
    "        jax.value_and_grad(lambda p, d: model.logpdf(p, d)[0]), in_axes=(0, None)\n",
    "    )(points, data)\n",
    "\n",
    "    ax.quiver(\n",
    "        points[:, 0],\n",
    "        points[:, 1],\n",
    "        gradients[:, 0],\n",
    "        gradients[:, 1],\n",
    "        angles=\"xy\",\n",
    "        scale=75,\n",
    "    )\n",
    "    ax.scatter(best_fit[0], best_fit[1], color=\"red\")\n",
    "\n",
    "    ax.set_xlabel(r\"$\\mu$\")\n",
    "    ax.set_ylabel(r\"$\\theta$\")\n",
    "    ax.set_xlim(x_range)\n",
    "    ax.set_ylim(y_range)\n",
    "\n",
    "    fig.tight_layout()\n",
    "\n",
    "    return fig, ax"
   ]
  },
  {
   "cell_type": "code",
   "execution_count": null,
   "metadata": {},
   "outputs": [],
   "source": [
    "fig, ax = plot_gradient_map(data, model, best_fit)\n",
    "fig.savefig(\"plots/MLE_grad_map.png\")"
   ]
  },
  {
   "cell_type": "code",
   "execution_count": null,
   "metadata": {},
   "outputs": [],
   "source": [
    "fig, ax = plot_gradient_map(data, model, best_fit, x_range=(0, 5), y_range=(0, 5))\n",
    "fig.savefig(\"plots/MLE_grad_map_full.png\")"
   ]
  }
 ],
 "metadata": {
  "kernelspec": {
   "display_name": "Python 3",
   "language": "python",
   "name": "python3"
  },
  "language_info": {
   "codemirror_mode": {
    "name": "ipython",
    "version": 3
   },
   "file_extension": ".py",
   "mimetype": "text/x-python",
   "name": "python",
   "nbconvert_exporter": "python",
   "pygments_lexer": "ipython3",
   "version": "3.7.5"
  }
 },
 "nbformat": 4,
 "nbformat_minor": 4
}
